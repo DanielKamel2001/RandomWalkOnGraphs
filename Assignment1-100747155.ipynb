{
 "cells": [
  {
   "cell_type": "markdown",
   "metadata": {},
   "source": [
    "# Assignment 1 -- Random Walk for Graph Connectivity Testing\n",
    "#### Jessica Leishman 100747155"
   ]
  },
  {
   "cell_type": "markdown",
   "metadata": {},
   "source": [
    "## Design Document"
   ]
  },
  {
   "cell_type": "markdown",
   "metadata": {},
   "source": [
    "## Implementation\n",
    "### Import Statements"
   ]
  },
  {
   "cell_type": "code",
   "execution_count": null,
   "metadata": {},
   "outputs": [],
   "source": [
    "import networkx as nx\n",
    "import random\n",
    "import matplotlib.pyplot as plt"
   ]
  },
  {
   "cell_type": "markdown",
   "metadata": {},
   "source": [
    "### Generate Graph"
   ]
  },
  {
   "cell_type": "code",
   "execution_count": null,
   "metadata": {},
   "outputs": [],
   "source": [
    "def generate_graph(directionGraph, number_of_nodes):\n",
    "    Graph = nx.gnp_random_graph(number_of_nodes, 0.5, directed=directionGraph)\n",
    "    return Graph"
   ]
  },
  {
   "cell_type": "markdown",
   "metadata": {},
   "source": [
    "### Random Walk Algorithm"
   ]
  },
  {
   "cell_type": "code",
   "execution_count": null,
   "metadata": {},
   "outputs": [],
   "source": [
    "def random_walk(Graph, steps, walks):\n",
    "    \n",
    "    random_walks = []\n",
    "\n",
    "    # iterate through required number of walks to complete\n",
    "    for i in range(walks):\n",
    "        # Randomly select a starting node\n",
    "        start_node = random.choice(list(Graph.nodes()))\n",
    "\n",
    "        # Perform a single random walk\n",
    "        random_walk = [start_node]\n",
    "        \n",
    "        #loop to iterate the required number of walk lengths\n",
    "        for j in range(steps - 1):\n",
    "            # get the neighboring nodes of the current node (accounts for directed and undirected graphs through .neighbours)\n",
    "            neighbors = list(Graph.neighbors(random_walk[-1]))\n",
    "            \n",
    "            if neighbors:\n",
    "                random_walk.append(random.choice(neighbors))\n",
    "            else: #if node is a dead end, need to end the walk.  Any bidirectional walks would be listed if available\n",
    "                break\n",
    "\n",
    "        random_walks.append(random_walk)\n",
    "\n",
    "    return random_walks\n",
    "\n"
   ]
  },
  {
   "cell_type": "markdown",
   "metadata": {},
   "source": [
    "### Draw Walk Function"
   ]
  },
  {
   "cell_type": "code",
   "execution_count": null,
   "metadata": {},
   "outputs": [],
   "source": [
    "#full disclosure i got most of this from stack overflow because i thought my list of nodes was good enough but this was fast\n",
    "#link here: https://stackoverflow.com/questions/29838746/how-to-draw-subgraph-using-networkx\n",
    "def draw_walk(Graph, walk):\n",
    "    # directed graph for the subgraph so arrows show\n",
    "    subgraph = nx.DiGraph()\n",
    "\n",
    "    # Add nodes and directed edges from the walk\n",
    "    subgraph.add_nodes_from(walk)\n",
    "    subgraph.add_edges_from([(walk[i], walk[i+1]) for i in range(len(walk)-1)])\n",
    "\n",
    "    node_colors = ['g' if node == walk[0] else 'r' if node == walk[-1] else 'orange' for node in subgraph.nodes()]\n",
    "\n",
    "    # Draw the subgraph with directional edges\n",
    "    pos = nx.spring_layout(Graph)\n",
    "    nx.draw(subgraph, pos, with_labels=True, node_color=node_colors, font_color='w', font_weight='bold')\n",
    "    nx.draw_networkx_edges(subgraph, pos, edgelist=subgraph.edges(), width=2, arrows=True)\n",
    "    plt.title(\"step\")\n",
    "    plt.show()"
   ]
  },
  {
   "cell_type": "markdown",
   "metadata": {},
   "source": [
    "### Execution of Algorithm"
   ]
  },
  {
   "cell_type": "code",
   "execution_count": null,
   "metadata": {},
   "outputs": [],
   "source": [
    "#Graph initialization variables\n",
    "graph_is_directed = True\n",
    "number_of_nodes = 10\n",
    "\n",
    "#random walk variables\n",
    "number_of_walks = 3\n",
    "walk_length = 3\n",
    "\n",
    "walk_graph = generate_graph(graph_is_directed, number_of_nodes)\n",
    "nx.draw(walk_graph, with_labels=True,node_color='orange')\n",
    "plt.title(\"graph\")\n",
    "plt.show()\n",
    "\n",
    "walks = random_walk(walk_graph,walk_length,number_of_walks)\n",
    "\n",
    "for walk in walks:\n",
    "    print(walk)\n",
    "\n",
    "    #i found a stackoverflow article on how i can display each walk too\n",
    "    draw_walk(walk_graph,walk)"
   ]
  },
  {
   "cell_type": "markdown",
   "metadata": {},
   "source": [
    "### Testing Connectivity"
   ]
  },
  {
   "cell_type": "code",
   "execution_count": null,
   "metadata": {},
   "outputs": [],
   "source": [
    "def is_connected(Graph, walks):\n",
    "    num_nodes = Graph.number_of_nodes()\n",
    "    seen_nodes = [False] * num_nodes  # Initialize a list to keep track of visited nodes\n",
    "\n",
    "    for walk in walks:\n",
    "        for node in walk:\n",
    "            #set that node to true\n",
    "            seen_nodes[node] = True\n",
    "\n",
    "    # Count the number of nodes that weren't visited\n",
    "    not_visited_count = seen_nodes.count(False)\n",
    "\n",
    "    # If any node is not visited, the graph is not connected\n",
    "    if not_visited_count > 0:\n",
    "        return False, not_visited_count\n",
    "    else:\n",
    "        return True, 0\n"
   ]
  },
  {
   "cell_type": "code",
   "execution_count": null,
   "metadata": {},
   "outputs": [],
   "source": [
    "# must be at least the number of nodes in the graph\n",
    "connectivity1, missing_nodes1 = is_connected(walk_graph, walks)\n",
    "print(\"Initial check [\" + \"connected: \"+ str(connectivity1) + \", missing nodes: \" + str(missing_nodes1) +\"]\")\n",
    "\n",
    "# to better ensure the random walks have checked for connectivity number of steps in the walk is 2x node count\n",
    "walks2 = random_walk(walk_graph,(number_of_nodes*2),number_of_walks)\n",
    "connectivity2, missing_nodes2 = is_connected(walk_graph, walks2)\n",
    "print(\"Secondary check [\" + \"connected: \"+ str(connectivity2) + \", missing nodes: \" + str(missing_nodes2) +\"]\")\n",
    "for walk in walks2:\n",
    "    print(walk)\n",
    "\n",
    "    #i found a stackoverflow article on how i can display each walk too\n",
    "    draw_walk(walk_graph,walk)"
   ]
  },
  {
   "cell_type": "markdown",
   "metadata": {},
   "source": [
    "# Testing Step count"
   ]
  },
  {
   "cell_type": "code",
   "execution_count": null,
   "metadata": {},
   "outputs": [],
   "source": [
    "\n",
    "def randomWalk(Graph: nx.Graph,steps : int, randomStart : bool = False,start: int = None):\n",
    "    # initalize new graph of path\n",
    "    pathWalked = nx.Graph()\n",
    "\n",
    "    # If randomStart is true, select a random start point\n",
    "    if(randomStart):\n",
    "        # Select random start node\n",
    "        # print(G.number_of_nodes())\n",
    "        position = random.randint(0,Graph.number_of_nodes()-1)\n",
    "    # If not random start and no specified start, start at 0\n",
    "    elif (start == None):\n",
    "        position = 0\n",
    "\n",
    "    # otherwise use specfied start\n",
    "    else:\n",
    "        position = start\n",
    "\n",
    "    pathWalked.add_node(position)\n",
    "\n",
    " \n",
    "    # for each step\n",
    "    for step in range(steps):\n",
    "\n",
    "        # get the neighboring nodes of the current node (accounts for directed and undirected graphs through .neighbours)\n",
    "        neighbors = list(Graph.neighbors(position))\n",
    "        \n",
    "        if neighbors:\n",
    "            destination = (random.choice(neighbors))\n",
    "        else: #if node is a dead end, need to end the walk.  Any bidirectional walks would be listed if available\n",
    "            break\n",
    "            \n",
    "            \n",
    "\n",
    "        # add node to new graph\n",
    "        pathWalked.add_node(destination)\n",
    "        # Connect new node to previous position\n",
    "        pathWalked.add_edge(position,destination)\n",
    "        # print(position,destination)\n",
    "\n",
    "        # update new current position\n",
    "        position = destination\n",
    "\n",
    "\n",
    "    return pathWalked\n"
   ]
  },
  {
   "cell_type": "code",
   "execution_count": null,
   "metadata": {},
   "outputs": [],
   "source": [
    "MAX_STEPS = 1000\n",
    "MAX_TESTS = 100\n",
    "MAX_NODES = 40\n",
    "graph_is_directed =True\n",
    "\n",
    "NumNodesList= list()\n",
    "AvgBestStepsList= list()\n",
    "\n",
    "# Track best walks\n",
    "bestPath = None\n",
    "largestConnectivity = 0\n",
    "bestSteps = 0\n",
    "averageBestSteps = 0\n",
    "graphConnected = False\n",
    "\n",
    "for numNodes in range(1,MAX_NODES):\n",
    "    walk_graph = generate_graph(graph_is_directed, numNodes)\n",
    "    # Repeat test to find average for that graph\n",
    "    for walk in range(MAX_TESTS):\n",
    "        # find the first step count that finds the full connectivity (or hits max steps)\n",
    "        for steps in range(MAX_STEPS):\n",
    "            # Create new graph of only path walked\n",
    "            pathWalked = randomWalk(Graph=walk_graph, steps=steps,randomStart=True)\n",
    "            connectivity =  round((pathWalked.number_of_nodes()/walk_graph.number_of_nodes())*100,2)\n",
    "            if connectivity > largestConnectivity:\n",
    "                largestConnectivity = connectivity\n",
    "                bestPath = pathWalked\n",
    "                bestSteps = steps \n",
    "            if largestConnectivity == 100:\n",
    "                graphConnected = True\n",
    "                break\n",
    "        averageBestSteps +=bestSteps\n",
    "        largestConnectivity = 0\n",
    "        bestSteps = 0 \n",
    "\n",
    "    NumNodesList.append(numNodes)\n",
    "    AvgBestStepsList.append(averageBestSteps)\n",
    "\n",
    "# print(\"percent traversed:\", round((bestPath.number_of_nodes()/ walk_graph.number_of_nodes())*100,2))\n",
    "# if graphConnected:\n",
    "#     print(\"average steps to prove full connectivity:\" ,round(averageBestSteps/MAX_TESTS,2))\n",
    "# else:\n",
    "#     print(\"average steps to largest connectivity:\" ,round(averageBestSteps/MAX_TESTS,2))\n",
    "\n",
    "\n",
    "plt.plot(NumNodesList,AvgBestStepsList)\n",
    "plt.xlabel(\"Nodes\")\n",
    "plt.ylabel(\"Steps\")\n",
    "plt.title(\"Optimal steps\")\n",
    "plt.show()"
   ]
  },
  {
   "cell_type": "markdown",
   "metadata": {},
   "source": [
    "# Testing ST connected\n",
    "Testing if two given nodes are connected"
   ]
  },
  {
   "cell_type": "code",
   "execution_count": null,
   "metadata": {},
   "outputs": [],
   "source": [
    "def isSTConnectedRandomWalk(Graph: nx.Graph,start,target,MAX_STEPS=None):\n",
    "    if MAX_STEPS == None:\n",
    "        MAX_STEPS = Graph.number_of_nodes()**4\n",
    "    print(\"Max steps allowed: \",MAX_STEPS)\n",
    "    # initalize new graph of path\n",
    "    pathWalked = nx.Graph()\n",
    "\n",
    "   \n",
    "    position = start\n",
    "    pathWalked.add_node(position)\n",
    "\n",
    " \n",
    "    # for each step\n",
    "    for step in range(MAX_STEPS):\n",
    "        # print(position,target)\n",
    "        if position == target:\n",
    "            return pathWalked ,True\n",
    "\n",
    "        # select edge to traverse \n",
    "        # edgeID = random.randint(0,len(Graph[position])-1)\n",
    "        \n",
    "        # get the neighboring nodes of the current node (accounts for directed and undirected graphs through .neighbours)\n",
    "        neighbors = list(Graph.neighbors(position))\n",
    "        \n",
    "        if neighbors:\n",
    "            destination = (random.choice(neighbors))\n",
    "        else: #if node is a dead end, need to end the walk.  Any bidirectional walks would be listed if available\n",
    "            break\n",
    "            \n",
    "\n",
    "        # add node to new graph\n",
    "        pathWalked.add_node(destination)\n",
    "        # Connect new node to previous position\n",
    "        pathWalked.add_edge(position,destination)\n",
    "        # print(position,destination)\n",
    "\n",
    "        # update new current position\n",
    "        position = destination\n",
    "\n",
    "\n",
    "    return pathWalked,False"
   ]
  }
 ],
 "metadata": {
  "kernelspec": {
   "display_name": "Python 3",
   "language": "python",
   "name": "python3"
  },
  "language_info": {
   "codemirror_mode": {
    "name": "ipython",
    "version": 3
   },
   "file_extension": ".py",
   "mimetype": "text/x-python",
   "name": "python",
   "nbconvert_exporter": "python",
   "pygments_lexer": "ipython3",
   "version": "3.11.5"
  }
 },
 "nbformat": 4,
 "nbformat_minor": 2
}
